{
 "cells": [
  {
   "cell_type": "markdown",
   "metadata": {},
   "source": [
    "# Exercice 1 : Expolartion de l'Environnement FrozenLake"
   ]
  },
  {
   "cell_type": "markdown",
   "metadata": {},
   "source": [
    "*Objectif :* Charger l'environnement `FrozenLake-v1` et explorer les espaces d'états et d'actions. Exécuter des actions aléatoires pour observer les transitions et les récompenses."
   ]
  },
  {
   "cell_type": "code",
   "execution_count": 1,
   "metadata": {},
   "outputs": [
    {
     "name": "stdout",
     "output_type": "stream",
     "text": [
      "Nombre d'états: 16\n",
      "Nombre d'actions: 4\n",
      "Épisode 1 - État: 0, Action: 1, Récompense: 0.0\n",
      "Épisode 1 - État: 1, Action: 3, Récompense: 0.0\n",
      "Épisode 1 - État: 0, Action: 2, Récompense: 0.0\n",
      "Épisode 1 - État: 0, Action: 3, Récompense: 0.0\n",
      "Épisode 1 - État: 1, Action: 1, Récompense: 0.0\n",
      "Épisode 1 - État: 0, Action: 1, Récompense: 0.0\n",
      "Épisode 1 - État: 1, Action: 0, Récompense: 0.0\n",
      "Épisode 2 - État: 0, Action: 1, Récompense: 0.0\n",
      "Épisode 2 - État: 1, Action: 1, Récompense: 0.0\n",
      "Épisode 2 - État: 2, Action: 1, Récompense: 0.0\n",
      "Épisode 2 - État: 1, Action: 1, Récompense: 0.0\n",
      "Épisode 2 - État: 2, Action: 3, Récompense: 0.0\n",
      "Épisode 2 - État: 2, Action: 0, Récompense: 0.0\n",
      "Épisode 2 - État: 6, Action: 0, Récompense: 0.0\n",
      "Épisode 2 - État: 2, Action: 2, Récompense: 0.0\n",
      "Épisode 2 - État: 3, Action: 0, Récompense: 0.0\n",
      "Épisode 2 - État: 2, Action: 0, Récompense: 0.0\n",
      "Épisode 2 - État: 2, Action: 1, Récompense: 0.0\n",
      "Épisode 2 - État: 3, Action: 0, Récompense: 0.0\n",
      "Épisode 2 - État: 3, Action: 2, Récompense: 0.0\n",
      "Épisode 3 - État: 0, Action: 1, Récompense: 0.0\n",
      "Épisode 3 - État: 4, Action: 3, Récompense: 0.0\n",
      "Épisode 3 - État: 4, Action: 1, Récompense: 0.0\n",
      "Épisode 3 - État: 4, Action: 3, Récompense: 0.0\n",
      "Épisode 3 - État: 4, Action: 3, Récompense: 0.0\n",
      "Épisode 3 - État: 0, Action: 2, Récompense: 0.0\n",
      "Épisode 3 - État: 0, Action: 1, Récompense: 0.0\n",
      "Épisode 3 - État: 1, Action: 0, Récompense: 0.0\n",
      "Épisode 3 - État: 1, Action: 1, Récompense: 0.0\n",
      "Épisode 4 - État: 0, Action: 1, Récompense: 0.0\n",
      "Épisode 4 - État: 0, Action: 1, Récompense: 0.0\n",
      "Épisode 4 - État: 4, Action: 0, Récompense: 0.0\n",
      "Épisode 4 - État: 0, Action: 1, Récompense: 0.0\n",
      "Épisode 4 - État: 4, Action: 3, Récompense: 0.0\n",
      "Épisode 4 - État: 4, Action: 2, Récompense: 0.0\n",
      "Épisode 4 - État: 8, Action: 0, Récompense: 0.0\n",
      "Épisode 5 - État: 0, Action: 2, Récompense: 0.0\n",
      "Épisode 5 - État: 0, Action: 3, Récompense: 0.0\n",
      "Épisode 5 - État: 1, Action: 1, Récompense: 0.0\n",
      "Épisode 6 - État: 0, Action: 2, Récompense: 0.0\n",
      "Épisode 6 - État: 1, Action: 3, Récompense: 0.0\n",
      "Épisode 6 - État: 2, Action: 3, Récompense: 0.0\n",
      "Épisode 6 - État: 3, Action: 3, Récompense: 0.0\n",
      "Épisode 6 - État: 3, Action: 3, Récompense: 0.0\n",
      "Épisode 6 - État: 2, Action: 0, Récompense: 0.0\n",
      "Épisode 6 - État: 6, Action: 3, Récompense: 0.0\n",
      "Épisode 7 - État: 0, Action: 3, Récompense: 0.0\n",
      "Épisode 7 - État: 1, Action: 0, Récompense: 0.0\n",
      "Épisode 7 - État: 1, Action: 0, Récompense: 0.0\n",
      "Épisode 8 - État: 0, Action: 1, Récompense: 0.0\n",
      "Épisode 8 - État: 0, Action: 1, Récompense: 0.0\n",
      "Épisode 8 - État: 0, Action: 2, Récompense: 0.0\n",
      "Épisode 8 - État: 4, Action: 0, Récompense: 0.0\n",
      "Épisode 8 - État: 0, Action: 3, Récompense: 0.0\n",
      "Épisode 8 - État: 1, Action: 1, Récompense: 0.0\n",
      "Épisode 8 - État: 0, Action: 1, Récompense: 0.0\n",
      "Épisode 8 - État: 1, Action: 1, Récompense: 0.0\n",
      "Épisode 8 - État: 0, Action: 1, Récompense: 0.0\n",
      "Épisode 8 - État: 4, Action: 2, Récompense: 0.0\n",
      "Épisode 8 - État: 8, Action: 3, Récompense: 0.0\n",
      "Épisode 8 - État: 9, Action: 2, Récompense: 0.0\n",
      "Épisode 8 - État: 10, Action: 0, Récompense: 0.0\n",
      "Épisode 8 - État: 14, Action: 1, Récompense: 1.0\n",
      "Épisode 9 - État: 0, Action: 3, Récompense: 0.0\n",
      "Épisode 9 - État: 0, Action: 2, Récompense: 0.0\n",
      "Épisode 9 - État: 0, Action: 2, Récompense: 0.0\n",
      "Épisode 9 - État: 4, Action: 3, Récompense: 0.0\n",
      "Épisode 9 - État: 0, Action: 0, Récompense: 0.0\n",
      "Épisode 9 - État: 4, Action: 2, Récompense: 0.0\n",
      "Épisode 10 - État: 0, Action: 2, Récompense: 0.0\n",
      "Épisode 10 - État: 0, Action: 2, Récompense: 0.0\n",
      "Épisode 10 - État: 0, Action: 2, Récompense: 0.0\n",
      "Épisode 10 - État: 0, Action: 2, Récompense: 0.0\n",
      "Épisode 10 - État: 4, Action: 3, Récompense: 0.0\n",
      "Épisode 10 - État: 4, Action: 2, Récompense: 0.0\n",
      "Épisode 10 - État: 8, Action: 2, Récompense: 0.0\n",
      "Épisode 10 - État: 4, Action: 0, Récompense: 0.0\n",
      "Épisode 10 - État: 4, Action: 2, Récompense: 0.0\n",
      "Épisode 10 - État: 0, Action: 2, Récompense: 0.0\n",
      "Épisode 10 - État: 1, Action: 0, Récompense: 0.0\n",
      "Épisode 10 - État: 1, Action: 2, Récompense: 0.0\n",
      "Épisode 10 - État: 2, Action: 3, Récompense: 0.0\n",
      "Épisode 10 - État: 1, Action: 3, Récompense: 0.0\n",
      "Épisode 10 - État: 1, Action: 0, Récompense: 0.0\n",
      "Épisode 10 - État: 0, Action: 0, Récompense: 0.0\n",
      "Épisode 10 - État: 0, Action: 1, Récompense: 0.0\n",
      "Épisode 10 - État: 1, Action: 3, Récompense: 0.0\n",
      "Épisode 10 - État: 1, Action: 3, Récompense: 0.0\n",
      "Épisode 10 - État: 1, Action: 3, Récompense: 0.0\n",
      "Épisode 10 - État: 2, Action: 0, Récompense: 0.0\n",
      "Épisode 10 - État: 2, Action: 0, Récompense: 0.0\n",
      "Épisode 10 - État: 6, Action: 2, Récompense: 0.0\n",
      "Épisode 10 - État: 10, Action: 2, Récompense: 0.0\n"
     ]
    }
   ],
   "source": [
    "# Charger l'environnement FrozenLake\n",
    "import gymnasium as gym\n",
    "\n",
    "# Créer l'environnement FrozenLake avec des transitions glissantes\n",
    "env = gym.make(\"FrozenLake-v1\", is_slippery=True, render_mode=\"human\")\n",
    "env.reset()\n",
    "\n",
    "# Afficher les informations de l'espace d'états et d'actions\n",
    "print(\"Nombre d'états:\", env.observation_space.n)\n",
    "print(\"Nombre d'actions:\", env.action_space.n)\n",
    "\n",
    "# Exécuter une boucle où l'agent prend des actions aléatoires\n",
    "num_episodes = 10\n",
    "for episode in range(num_episodes):\n",
    "    state = env.reset()[0]  # Réinitialiser l'environnement\n",
    "    done = False\n",
    "    while not done:\n",
    "        action = env.action_space.sample()  # Action aléatoire\n",
    "        next_state, reward, done, truncated, info = env.step(action)\n",
    "        print(f\"Épisode {episode+1} - État: {state}, Action: {action}, Récompense: {reward}\")\n",
    "        state = next_state\n",
    "\n",
    "env.close()"
   ]
  },
  {
   "cell_type": "markdown",
   "metadata": {},
   "source": [
    "# Exercice 2 : Initialisation de la Q-Table"
   ]
  },
  {
   "cell_type": "markdown",
   "metadata": {},
   "source": [
    "*Objectif :* Initialiser une Q-Table avec des valeurs nulles pour chaque état-action."
   ]
  },
  {
   "cell_type": "code",
   "execution_count": 2,
   "metadata": {},
   "outputs": [
    {
     "name": "stdout",
     "output_type": "stream",
     "text": [
      "Q-Table initialisée:\n",
      "[[0. 0. 0. 0.]\n",
      " [0. 0. 0. 0.]\n",
      " [0. 0. 0. 0.]\n",
      " [0. 0. 0. 0.]\n",
      " [0. 0. 0. 0.]\n",
      " [0. 0. 0. 0.]\n",
      " [0. 0. 0. 0.]\n",
      " [0. 0. 0. 0.]\n",
      " [0. 0. 0. 0.]\n",
      " [0. 0. 0. 0.]\n",
      " [0. 0. 0. 0.]\n",
      " [0. 0. 0. 0.]\n",
      " [0. 0. 0. 0.]\n",
      " [0. 0. 0. 0.]\n",
      " [0. 0. 0. 0.]\n",
      " [0. 0. 0. 0.]]\n"
     ]
    }
   ],
   "source": [
    "import numpy as np\n",
    "\n",
    "# Initialiser la Q-table avec des zéros\n",
    "num_states = env.observation_space.n\n",
    "num_actions = env.action_space.n\n",
    "\n",
    "q_table = np.zeros((num_states, num_actions))\n",
    "\n",
    "# Affichage de la Q-Table initialisée\n",
    "print(\"Q-Table initialisée:\")\n",
    "print(q_table)"
   ]
  },
  {
   "cell_type": "markdown",
   "metadata": {},
   "source": [
    "# Exercice 3 : Implementation du Q-Learning avec Mise A jour"
   ]
  },
  {
   "cell_type": "markdown",
   "metadata": {},
   "source": [
    "*Objectif :* Implémenter l'algorithme Q-Learning pour apprendre les meilleures actions à prendre dans chaque état."
   ]
  },
  {
   "cell_type": "code",
   "execution_count": 5,
   "metadata": {},
   "outputs": [
    {
     "name": "stdout",
     "output_type": "stream",
     "text": [
      "Q-Table après apprentissage:\n",
      "[[4.55325515e-01 3.30128174e-01 3.03743465e-01 2.83100367e-01]\n",
      " [3.93584984e-02 6.07668429e-02 3.48409588e-02 1.88395873e-01]\n",
      " [1.28907277e-01 4.34843500e-03 4.04681843e-03 1.82988758e-02]\n",
      " [3.53961632e-05 9.97287105e-04 1.99536934e-04 1.10395859e-03]\n",
      " [4.62847973e-01 2.93485088e-01 2.23050948e-01 2.03149009e-01]\n",
      " [0.00000000e+00 0.00000000e+00 0.00000000e+00 0.00000000e+00]\n",
      " [2.83443278e-02 1.20796592e-01 1.85281001e-02 0.00000000e+00]\n",
      " [0.00000000e+00 0.00000000e+00 0.00000000e+00 0.00000000e+00]\n",
      " [1.84689384e-01 2.26050303e-01 3.23309970e-01 4.90224207e-01]\n",
      " [2.34132866e-01 5.08018571e-01 2.26871642e-01 1.99337449e-01]\n",
      " [1.28685668e-01 3.98675869e-01 8.93723578e-02 7.84362375e-02]\n",
      " [0.00000000e+00 0.00000000e+00 0.00000000e+00 0.00000000e+00]\n",
      " [0.00000000e+00 0.00000000e+00 0.00000000e+00 0.00000000e+00]\n",
      " [2.01998140e-01 3.18079863e-01 6.69163875e-01 2.65208981e-01]\n",
      " [2.99399244e-01 8.29967099e-01 4.74885063e-01 5.21204981e-01]\n",
      " [0.00000000e+00 0.00000000e+00 0.00000000e+00 0.00000000e+00]]\n"
     ]
    }
   ],
   "source": [
    "import gymnasium as gym\n",
    "import numpy as np\n",
    "\n",
    "\n",
    "env = gym.make(\"FrozenLake-v1\", is_slippery=True)\n",
    "\n",
    "\n",
    "alpha = 0.1  # Taux d'apprentissage\n",
    "gamma = 0.99  # Facteur de discount\n",
    "epsilon = 1.0  # Exploration initiale\n",
    "epsilon_decay = 0.995  # Décroissance d'epsilon\n",
    "num_episodes = 1000  # Nombre d'épisodes\n",
    "\n",
    "# Initialisation de la Q-table\n",
    "num_states = env.observation_space.n\n",
    "num_actions = env.action_space.n\n",
    "q_table = np.zeros((num_states, num_actions))\n",
    "\n",
    "for episode in range(num_episodes):\n",
    "    state, _ = env.reset()  \n",
    "    done = False\n",
    "\n",
    "    while not done:\n",
    "        \n",
    "        if np.random.uniform(0, 1) < epsilon:\n",
    "            action = env.action_space.sample()  # Exploration\n",
    "        else:\n",
    "            action = np.argmax(q_table[state, :])  # Exploitation\n",
    "\n",
    "       \n",
    "        next_state, reward, done, _, _ = env.step(action)\n",
    "\n",
    "        \n",
    "        q_table[state, action] = q_table[state, action] + alpha * (\n",
    "            reward + gamma * np.max(q_table[next_state, :]) - q_table[state, action]\n",
    "        )\n",
    "\n",
    "        state = next_state\n",
    "\n",
    "   \n",
    "    epsilon *= epsilon_decay\n",
    "\n",
    "env.close()  \n",
    "\n",
    "print(\"Q-Table après apprentissage:\")\n",
    "print(q_table)\n"
   ]
  },
  {
   "cell_type": "markdown",
   "metadata": {},
   "source": [
    "# Exercice 4 : Évaluation des Performances de l’Agent"
   ]
  },
  {
   "cell_type": "markdown",
   "metadata": {},
   "source": [
    "*Objectif :* Évaluer les performances de l'agent en utilisant la Q-Table apprise."
   ]
  },
  {
   "cell_type": "code",
   "execution_count": 6,
   "metadata": {},
   "outputs": [
    {
     "name": "stdout",
     "output_type": "stream",
     "text": [
      "Taux de réussite: 68/100 (68.00%)\n"
     ]
    }
   ],
   "source": [
    "num_test_episodes = 100\n",
    "successes = 0\n",
    "\n",
    "for episode in range(num_test_episodes):\n",
    "    state = env.reset()[0]\n",
    "    done = False\n",
    "    \n",
    "    while not done:\n",
    "        action = np.argmax(q_table[state, :]) \n",
    "        next_state, reward, done, truncated, _ = env.step(action)\n",
    "        state = next_state\n",
    "\n",
    "        if reward == 1:  \n",
    "            successes += 1\n",
    "\n",
    "print(f\"Taux de réussite: {successes}/{num_test_episodes} ({(successes/num_test_episodes) * 100:.2f}%)\")"
   ]
  }
 ],
 "metadata": {
  "kernelspec": {
   "display_name": "myvenv",
   "language": "python",
   "name": "python3"
  },
  "language_info": {
   "codemirror_mode": {
    "name": "ipython",
    "version": 3
   },
   "file_extension": ".py",
   "mimetype": "text/x-python",
   "name": "python",
   "nbconvert_exporter": "python",
   "pygments_lexer": "ipython3",
   "version": "3.10.15"
  }
 },
 "nbformat": 4,
 "nbformat_minor": 2
}
